{
 "cells": [
  {
   "cell_type": "markdown",
   "metadata": {},
   "source": [
    "### 파이썬으로 구구단 출력하기\n",
    "\n",
    "아래 셀에 있는 결과물과 같이 구구단을 출력해 내는 코드를 만들어 보세요.\n",
    "\n",
    "힌트1 : 반복문을 두번 중첩해서 만들어 보세요. (반복문 안에 반복문)\n",
    "\n",
    "힌트2 : print() 함수에서 'end' 파라미터를 사용할 수 있습니다. end 파라미터의 값에 '\\t'를 넣으면 출력결과를 탭으로 구분해 줍니다."
   ]
  },
  {
   "cell_type": "markdown",
   "metadata": {},
   "source": [
    "![결과이미지](image_문제1.png)"
   ]
  },
  {
   "cell_type": "code",
   "execution_count": null,
   "metadata": {},
   "outputs": [],
   "source": [
    "#여기에 답안 코딩 (코드 4줄로 결과를 얻을 수 있어요)\n"
   ]
  }
 ],
 "metadata": {
  "kernelspec": {
   "display_name": "Python 3.9.10 ('venv_sg_common')",
   "language": "python",
   "name": "python3"
  },
  "language_info": {
   "codemirror_mode": {
    "name": "ipython",
    "version": 3
   },
   "file_extension": ".py",
   "mimetype": "text/x-python",
   "name": "python",
   "nbconvert_exporter": "python",
   "pygments_lexer": "ipython3",
   "version": "3.9.10"
  },
  "orig_nbformat": 4,
  "vscode": {
   "interpreter": {
    "hash": "5908b3a37c1edf40bbbce45d001efe3fcd899a6909e350ae178872a1ff3ea6ec"
   }
  }
 },
 "nbformat": 4,
 "nbformat_minor": 2
}
