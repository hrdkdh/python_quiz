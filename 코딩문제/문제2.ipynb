{
 "cells": [
  {
   "cell_type": "markdown",
   "metadata": {},
   "source": [
    "### 리스트에서 가장 큰 수 찾기"
   ]
  },
  {
   "cell_type": "code",
   "execution_count": null,
   "metadata": {},
   "outputs": [],
   "source": [
    "import random\n",
    "\n",
    "#아래 코드는 1~100까지의 숫자들 중 랜덤으로 50개만 뽑아 리스트를 만드는 코드입니다.\n",
    "data = []\n",
    "while True:\n",
    "    if len(data) == 50:\n",
    "        break\n",
    "    no = random.randrange(1, 101)\n",
    "    if no not in data:\n",
    "        data.append(no)"
   ]
  },
  {
   "cell_type": "code",
   "execution_count": null,
   "metadata": {},
   "outputs": [],
   "source": [
    "#반복문을 이용해 data 리스트에서 가장 큰 수를 찾아보세요. (코드 4줄로 완성할 수 있습니다)"
   ]
  },
  {
   "cell_type": "code",
   "execution_count": null,
   "metadata": {},
   "outputs": [],
   "source": [
    "#위와 같은 원리로 data 리스트에서 가장 작은 수를 찾아보세요. (역시 코드 4줄로 완성할 수 있습니다)"
   ]
  },
  {
   "cell_type": "code",
   "execution_count": null,
   "metadata": {},
   "outputs": [],
   "source": [
    "#아래와 같이 파이썬 내장 함수를 이용하면 최대값과 최소값을 손쉽게 찾을 수 있지만, 직접 찾는 방법을 알아야 합니다.\n",
    "max(data), min(data)"
   ]
  }
 ],
 "metadata": {
  "kernelspec": {
   "display_name": "Python 3.9.10 ('venv_sg_common')",
   "language": "python",
   "name": "python3"
  },
  "language_info": {
   "codemirror_mode": {
    "name": "ipython",
    "version": 3
   },
   "file_extension": ".py",
   "mimetype": "text/x-python",
   "name": "python",
   "nbconvert_exporter": "python",
   "pygments_lexer": "ipython3",
   "version": "3.9.10"
  },
  "orig_nbformat": 4,
  "vscode": {
   "interpreter": {
    "hash": "5908b3a37c1edf40bbbce45d001efe3fcd899a6909e350ae178872a1ff3ea6ec"
   }
  }
 },
 "nbformat": 4,
 "nbformat_minor": 2
}
